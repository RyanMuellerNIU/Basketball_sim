{
  "cells": [
    {
      "cell_type": "markdown",
      "metadata": {
        "id": "view-in-github",
        "colab_type": "text"
      },
      "source": [
        "<a href=\"https://colab.research.google.com/github/RyanMuellerNIU/Basketball_sim/blob/main/Basketball.ipynb\" target=\"_parent\"><img src=\"https://colab.research.google.com/assets/colab-badge.svg\" alt=\"Open In Colab\"/></a>"
      ]
    },
    {
      "cell_type": "markdown",
      "metadata": {
        "heading_collapsed": true,
        "id": "lll5aRo_gzuH"
      },
      "source": [
        "# Basketball Simulation (Click the arrow on the left to close headings)\n",
        "An interactive simulation that allows you to showcase your physics and basketball skills!"
      ]
    },
    {
      "cell_type": "markdown",
      "metadata": {
        "hidden": true,
        "id": "fL82KULggzuI"
      },
      "source": [
        "## Input Diagram\n",
        "To see what each of the sliders control, look here!\n",
        "(If on a moblie device, This may not show)\n",
        "\n",
        "Go back to GitHub to see the diagram if needed."
      ]
    },
    {
      "cell_type": "markdown",
      "metadata": {
        "hidden": true,
        "id": "zrLsqYargzuJ"
      },
      "source": [
        "![picture](https://drive.google.com/uc?id=1uN5ph0j2gIZfGLwIsp9T6d7CoCnzbOvN)"
      ]
    },
    {
      "cell_type": "markdown",
      "metadata": {
        "hidden": true,
        "id": "vrf2b0-IgzuJ"
      },
      "source": [
        "## Shoot Hoops!\n",
        "Use the sliders to make shots from different spots on the court. When you understand how each of the variables impacts the flight of the ball, try to hit shots on the first attempt. By consistently hitting shots from different positions you prove your mastery of trajectory-based physics!"
      ]
    },
    {
      "cell_type": "code",
      "execution_count": null,
      "metadata": {
        "code_folding": [
          0
        ],
        "hidden": true,
        "cellView": "form",
        "id": "p_0vA5rIgzuJ"
      },
      "outputs": [],
      "source": [
        "#@title\n",
        "#Code For Animation\n",
        "%matplotlib inline\n",
        "import numpy as np\n",
        "import matplotlib.pyplot as plt\n",
        "from matplotlib import animation, rc\n",
        "from IPython.display import HTML\n",
        "from ipywidgets import interact, interactive, fixed, interact_manual\n",
        "import ipywidgets as widgets\n",
        "from ipywidgets import FloatSlider\n",
        "Made = False;\n",
        "Board = False;\n",
        "@interact_manual(Drag_Force=['Off','On'],\n",
        "                 Dist_Away=FloatSlider(min=1, max=10, step=.25),\n",
        "                 Height=FloatSlider(min=0, max=2.5, step=.25),\n",
        "                 Velocity=FloatSlider(min=4, max=12, step=.1),\n",
        "                 Angle=FloatSlider(min=1, max=90, step=.5),layout=widgets.Layout(width='500px'))\n",
        "def function(Drag_Force,Dist_Away,Height,Velocity,Angle):\n",
        "    global Made, Board;\n",
        "    Made = False;\n",
        "    Board = False;\n",
        "    M = 0.62          # Mass of projectile in kg\n",
        "    g = 9.8           # Acceleration due to gravity (m/s^2)\n",
        "    V = Velocity      # Initial velocity in m/s\n",
        "    ang = Angle       # Angle of initial velocity in degrees\n",
        "    if Drag_Force =='On':\n",
        "        Cd = 0.53   # Drag coefficient\n",
        "    if Drag_Force =='Off':\n",
        "        Cd = 0;\n",
        "    dt = 0.05         # time step in s\n",
        "    print('Calculating...')\n",
        "    t = [0]                         # list to keep track of time\n",
        "    vx = [-V*np.cos(ang/180*np.pi)]  # list for velocity x and y components\n",
        "    vy = [V*np.sin(ang/180*np.pi)]\n",
        "    x = [Dist_Away]                         # list for x and y position\n",
        "    y = [Height]\n",
        "\n",
        "    # Drag force\n",
        "    drag=Cd*.01*V**2                      # drag force\n",
        "\n",
        "    # Acceleration components\n",
        "    ax = [(drag*np.cos(ang/180*np.pi))/M ]\n",
        "    ay = [-g-(drag*np.sin(ang/180*np.pi)/M) ]\n",
        "\n",
        "    # Use Euler method to update variables\n",
        "    counter = 0\n",
        "    while (y[counter] >= 0):                   # Check that the last value of y is >= 0\n",
        "        t.append(t[counter]+dt)                # increment by dt and add to the list of time\n",
        "\n",
        "        # Update velocity\n",
        "        vx.append(vx[counter]+dt*ax[counter])  # Update the velocity\n",
        "        vy.append(vy[counter]+dt*ay[counter])\n",
        "\n",
        "        # Update position\n",
        "        x.append(x[counter]+dt*vx[counter])\n",
        "        y.append(y[counter]+dt*vy[counter])\n",
        "\n",
        "        # With the new velocity calculate the drag force and update acceleration\n",
        "        vel = np.sqrt(vx[counter+1]**2 + vy[counter+1]**2)   # magnitude of velocity\n",
        "        drag = Cd*.01*vel**2                                   # drag force\n",
        "        ax.append((drag*np.cos(ang/180*np.pi))/M)\n",
        "        ay.append(-g-(drag*np.sin(ang/180*np.pi)/M))\n",
        "\n",
        "        # Increment the counter by 1\n",
        "        counter = counter +1\n",
        "\n",
        "    # Let's plot the trajectory\n",
        "    fig, ax = plt.subplots()\n",
        "    plt.title('Basketball Trajectory')\n",
        "    ax.set_xlabel('Distance Thrown [m]')\n",
        "    ax.set_ylabel('Height of Ball [m]')\n",
        "    ax.set_ylim(( 0, 6))\n",
        "    ax.set_xlim((-.5,10))\n",
        "    #Court Features\n",
        "    rim_x = [0,0.5,0.5,0,0]\n",
        "    rim_y = [3,3,2.75,2.75,3]\n",
        "    Back_x = [-0.1,-0.1]\n",
        "    Back_y = [3,4]\n",
        "    pole_x = [-0.1,-0.1]\n",
        "    pole_y = [3,0]\n",
        "    ax.plot(rim_x,rim_y,c='black')\n",
        "    ax.plot(rim_x[0:2],rim_y[0:2],c='red',linewidth = '2')\n",
        "    ax.plot(Back_x,Back_y,c='black',linewidth = '6')\n",
        "    ax.plot(pole_x,pole_y,c='black',linewidth = '3')\n",
        "    Point_Line = ax.scatter(6,.1, marker=\"^\", s=100, color='red',edgecolors='black',label='3-Point Line')\n",
        "    ax.legend(handles=[Point_Line],loc='upper right')\n",
        "\n",
        "    print('loading animation...')\n",
        "    #animation function\n",
        "\n",
        "    def animate(i):\n",
        "        global Made,Board\n",
        "        cur_time = t[i]\n",
        "        xplot = x[i]\n",
        "        yplot = y[i]\n",
        "        scatter_plot = ax.scatter(xplot,yplot, marker=\"o\", s=55,color='orange',edgecolors='black')\n",
        "\n",
        "        if 0.01<x[i]<0.48 and 2.8<y[i]<3.25:\n",
        "            S_Made = ax.scatter(-0.1,4.25,marker=\"*\", s=200, color='green',edgecolors='black',label= 'Shot Made!')\n",
        "            ax.legend(handles=[Point_Line,S_Made],loc='upper right')\n",
        "            Made = True;\n",
        "            return (scatter_plot,)\n",
        "\n",
        "        elif -0.5<x[i]<0 and 3<y[i]<4 and Made == False:\n",
        "            BBoard = ax.scatter(-0.1,4.25,marker=\"s\", s=200, color='yellow',edgecolors='black',label='Hit Backboard!')\n",
        "            ax.legend(handles=[Point_Line,BBoard],loc='upper right')\n",
        "            Board = True;\n",
        "            return (scatter_plot,)\n",
        "\n",
        "        elif -0.5<x[i]<0 and (y[i]<3 or 4<y[i]) and Made == False and Board == False:\n",
        "            S_Miss = ax.scatter(-0.1,4.25,marker=\"X\", s=200, color='red',edgecolors='black',label='Shot Missed!')\n",
        "            ax.legend(handles=[Point_Line,S_Miss],loc='upper right')\n",
        "            return (scatter_plot,)\n",
        "        else:\n",
        "            return (scatter_plot,)\n",
        "\n",
        "    anim = animation.FuncAnimation(fig, animate,frames=counter,interval=40, blit=True)\n",
        "    plt.close()\n",
        "    return HTML(anim.to_jshtml())"
      ]
    },
    {
      "cell_type": "markdown",
      "metadata": {
        "heading_collapsed": true,
        "hide_input": true,
        "id": "2AD1xYpEgzuL"
      },
      "source": [
        "# Basketball Simulation Creation Using Python\n",
        "\n",
        "If you want to learn more about how the simulation was made and the physics supporting it, explore this section!"
      ]
    },
    {
      "cell_type": "markdown",
      "metadata": {
        "heading_collapsed": true,
        "hidden": true,
        "id": "GwUs9KwugzuL"
      },
      "source": [
        "## Purpose of Demonstration\n",
        "The fundemental purpose of the Basketball simulation is listed here."
      ]
    },
    {
      "cell_type": "markdown",
      "metadata": {
        "hidden": true,
        "id": "DQO4XKyDgzuL"
      },
      "source": [
        "In this exercise, we will use a simple script to plot the trajectory of a projectile with inclusion of air resistance. We will also calculate the range of the projectile.\n",
        "\n",
        "The air resistance drag force $F_d$ in $N$ is approximated by the following relation.\n",
        "\n",
        "  $$ F_d = C_d v^2 $$\n",
        "\n",
        "Here, $v$ is the magnitude of velocity in $m/s$ and $C_d$ is the coefficient of drag."
      ]
    },
    {
      "cell_type": "markdown",
      "metadata": {
        "heading_collapsed": true,
        "hidden": true,
        "id": "uSidNUCagzuM"
      },
      "source": [
        "## Simulation Creation Steps\n",
        "\n",
        "If you want to learn more about how this simulation was made, explore this section!"
      ]
    },
    {
      "cell_type": "markdown",
      "metadata": {
        "heading_collapsed": true,
        "hidden": true,
        "id": "apJnq-OEgzuM"
      },
      "source": [
        "### Define the parameters in the problem"
      ]
    },
    {
      "cell_type": "markdown",
      "metadata": {
        "hidden": true,
        "id": "CNqrsNt3gzuM"
      },
      "source": [
        "First we import the modules we need: numpy to provide some mathematics functions, and matplotlib for plotting.\n",
        "\n",
        "To start describing the problem, we need to define the parameters in the problem.\n",
        "\n",
        "- the mass of the projectile\n",
        "- acceleration due to gravity\n",
        "- initial velocity (magnitude and direction)\n",
        "- drag coefficient\n",
        "\n",
        "We also set the time step to track the trajectory."
      ]
    },
    {
      "cell_type": "code",
      "execution_count": null,
      "metadata": {
        "hidden": true,
        "id": "HYQcUbaLgzuM"
      },
      "outputs": [],
      "source": [
        "%matplotlib inline\n",
        "import numpy as np\n",
        "import matplotlib.pyplot as plt\n",
        "from matplotlib import animation, rc\n",
        "from IPython.display import HTML\n",
        "from ipywidgets import interact, interactive, fixed, interact_manual\n",
        "import ipywidgets as widgets"
      ]
    },
    {
      "cell_type": "markdown",
      "metadata": {
        "heading_collapsed": true,
        "hidden": true,
        "hide_input": true,
        "id": "DwrpypHTgzuM"
      },
      "source": [
        "### Set up the variables at time zero"
      ]
    },
    {
      "cell_type": "markdown",
      "metadata": {
        "hidden": true,
        "id": "fU3BwU7pgzuM"
      },
      "source": [
        "Next, we generate velocity of the projectile as a function of time. To do that, we create the following lists.\n",
        "\n",
        "- list to store the values of time $t$\n",
        "- list to store x-component of velocity $v_x$\n",
        "- list to store y-component of velocity $v_y$\n",
        "- list to store x-component of acceleration $a_x$\n",
        "- list to store y-component of acceleration $a_y$\n",
        "\n",
        "We start by putting in the initial velocity components $v_x = V \\cos\\theta$ and $v_y = V \\sin\\theta$  at $t=0$.\n",
        "\n",
        "To get the acceleration, we need to find the resultant force, which consists of the air drag $F_d$ and weight $W$.\n",
        "\n",
        "$$ W = M g$$\n",
        "\n",
        "and\n",
        "\n",
        "$$ F_d = C_d v^2 $$\n",
        "\n",
        "The x and y components of the resultant force are given by\n",
        "\n",
        "$$ F_x = - F_d \\cos\\theta \\qquad \\text{and} \\qquad F_y = -Mg - F_d \\sin\\theta $$\n",
        "\n",
        "where $\\theta$ is the angle that the velocity forms with the positive x-axis. The force components follow the convention that they are positive when pointing to the right and upwards.\n",
        "\n",
        "By Newton's second law, the acceleration of the projectile is thus given by\n",
        "\n",
        "$$ a_x = - (F_d \\cos\\theta)/M \\qquad \\text{and} \\qquad a_y = -g - (F_d \\sin\\theta)/M $$\n",
        "\n",
        "Let's implement these steps to get the velocity, drag force, and acceleration at $t=0$."
      ]
    },
    {
      "cell_type": "code",
      "execution_count": null,
      "metadata": {
        "code_folding": [],
        "hidden": true,
        "id": "fuIThsPcgzuN"
      },
      "outputs": [],
      "source": [
        "# Model parameters\n",
        "M = 0.5          # Mass of projectile in kg\n",
        "g = 9.8          # Acceleration due to gravity (m/s^2)\n",
        "V = 8           # Initial velocity in m/s\n",
        "ang = 60.0       # Angle of initial velocity in degrees\n",
        "Cd = 0.005       # Drag coefficient\n",
        "dt = 0.5         # time step in s"
      ]
    },
    {
      "cell_type": "markdown",
      "metadata": {
        "heading_collapsed": true,
        "hidden": true,
        "id": "B0NXcwTEgzuN"
      },
      "source": [
        "### Update the velocity for every time-step"
      ]
    },
    {
      "cell_type": "markdown",
      "metadata": {
        "hidden": true,
        "id": "Kw4iQ3HagzuN"
      },
      "source": [
        "To get the velocity at the next time step, we make use of the following approximation.\n",
        "\n",
        "$$ a(t_{n}) = \\frac{dv(t_{n})}{dt} \\approx \\frac{v(t_{n+1}) - v(t_n)}{\\Delta t} $$\n",
        "\n",
        "or\n",
        "\n",
        "$$ v(t_{n+1}) \\approx v(t_n) +  a(t_n) \\Delta t $$\n",
        "\n",
        "This is just a very primitive way of doing integration of acceleration to get velocity. In the literature, this is known as Euler's method.\n",
        "\n",
        "Let us calculate 10 sets of velocities for 10 time-steps. We will use a while-loop and keep a counter to count to 10."
      ]
    },
    {
      "cell_type": "code",
      "execution_count": null,
      "metadata": {
        "code_folding": [],
        "hidden": true,
        "id": "5ZZQ3ohrgzuN"
      },
      "outputs": [],
      "source": [
        "# Set up the lists to store variables\n",
        "# Start by putting the initial velocities at t=0\n",
        "t = [0]                         # list to keep track of time\n",
        "vx = [V*np.cos(ang/180*np.pi)]  # list for velocity x and y components\n",
        "vy = [V*np.sin(ang/180*np.pi)]\n",
        "\n",
        "# Drag force\n",
        "drag = Cd*V**2                      # drag force\n",
        "\n",
        "# Create the lists for acceleration components\n",
        "ax = [-(drag*np.cos(ang/180*np.pi))/M]\n",
        "ay = [-g-(drag*np.sin(ang/180*np.pi)/M)]\n",
        "\n",
        "counter = 0\n",
        "while (counter < 10):\n",
        "    t.append(t[counter]+dt)                # increment by dt and add to the list of time\n",
        "    vx.append(vx[counter]+dt*ax[counter])  # Update the velocity\n",
        "    vy.append(vy[counter]+dt*ay[counter])\n",
        "\n",
        "    # With the new velocity calculate the drag force\n",
        "    vel = np.sqrt(vx[counter+1]**2 + vy[counter+1]**2)   # magnitude of velocity\n",
        "    drag = Cd*vel**2                                   # drag force\n",
        "    ax.append(-(drag*np.cos(ang/180*np.pi))/M)\n",
        "    ay.append(-g-(drag*np.sin(ang/180*np.pi)/M))\n",
        "\n",
        "    # Increment the counter by 1\n",
        "    counter = counter +1"
      ]
    },
    {
      "cell_type": "markdown",
      "metadata": {
        "heading_collapsed": true,
        "hidden": true,
        "id": "UpA1j10BgzuN"
      },
      "source": [
        "### Update the positions"
      ]
    },
    {
      "cell_type": "markdown",
      "metadata": {
        "hidden": true,
        "id": "RhvdVIgCgzuN"
      },
      "source": [
        "After we have obtained the velocities, we can get the $x$ and $y$ positions of the projectile using a similar concept.\n",
        "\n",
        "$$ v_x(t_{n}) = \\frac{dx(t_{n})}{dt} \\approx \\frac{x(t_{n+1}) - x(t_n)}{\\Delta t}\n",
        "   \\qquad \\text{and} \\qquad\n",
        "   v_y(t_{n}) = \\frac{dy(t_{n})}{dt} \\approx \\frac{y(t_{n+1}) - y(t_n)}{\\Delta t}\n",
        "$$\n",
        "\n",
        "or\n",
        "\n",
        "$$ x(t_{n+1}) \\approx x(t_n) +  v_x(t_n) \\Delta t\n",
        "   \\qquad \\text{and} \\qquad\n",
        "   y(t_{n+1}) \\approx y(t_n) +  v_y(t_n) \\Delta t\n",
        "$$\n",
        "\n",
        "Starting with $x=0$ and $y=0$ at $t=0$, we can use Euler's method to get the positions for the 10 time-steps using the velocities found previously."
      ]
    },
    {
      "cell_type": "code",
      "execution_count": null,
      "metadata": {
        "hidden": true,
        "id": "Xka6385WgzuN"
      },
      "outputs": [],
      "source": [
        "# Initialise the lists for x and y\n",
        "x = [0]\n",
        "y = [0]\n",
        "\n",
        "# Use Euler method to update variables\n",
        "counter = 0\n",
        "while (counter < 10):\n",
        "    # Update the positions x and y\n",
        "    x.append(x[counter]+dt*vx[counter])\n",
        "    y.append(y[counter]+dt*vy[counter])\n",
        "    # Increment the counter by 1\n",
        "    counter = counter +1"
      ]
    },
    {
      "cell_type": "markdown",
      "metadata": {
        "heading_collapsed": true,
        "hidden": true,
        "id": "1VpKfYl-gzuO"
      },
      "source": [
        "### Let's put everything together"
      ]
    },
    {
      "cell_type": "markdown",
      "metadata": {
        "hidden": true,
        "id": "TKfq5VytgzuO"
      },
      "source": [
        "How about calculating the velocity and position all together in the same while-loop?\n",
        "\n",
        "Also, let's stop the while-loop after the projectile drops back to the ground again. One simple way to detect this is to check whether the value of $y$ position falls below zero. So, we keep running the while-loop while $y \\ge 0$."
      ]
    }
  ],
  "metadata": {
    "colab": {
      "provenance": [],
      "include_colab_link": true
    },
    "kernelspec": {
      "display_name": "Python 3 (ipykernel)",
      "language": "python",
      "name": "python3"
    },
    "language_info": {
      "codemirror_mode": {
        "name": "ipython",
        "version": 3
      },
      "file_extension": ".py",
      "mimetype": "text/x-python",
      "name": "python",
      "nbconvert_exporter": "python",
      "pygments_lexer": "ipython3",
      "version": "3.10.6"
    },
    "varInspector": {
      "cols": {
        "lenName": 16,
        "lenType": 16,
        "lenVar": 40
      },
      "kernels_config": {
        "python": {
          "delete_cmd_postfix": "",
          "delete_cmd_prefix": "del ",
          "library": "var_list.py",
          "varRefreshCmd": "print(var_dic_list())"
        },
        "r": {
          "delete_cmd_postfix": ") ",
          "delete_cmd_prefix": "rm(",
          "library": "var_list.r",
          "varRefreshCmd": "cat(var_dic_list()) "
        }
      },
      "types_to_exclude": [
        "module",
        "function",
        "builtin_function_or_method",
        "instance",
        "_Feature"
      ],
      "window_display": false
    }
  },
  "nbformat": 4,
  "nbformat_minor": 0
}